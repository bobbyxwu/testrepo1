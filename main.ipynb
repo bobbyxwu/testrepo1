{
 "cells": [
  {
   "cell_type": "code",
   "execution_count": 1,
   "metadata": {},
   "outputs": [],
   "source": [
    "#import useful libraries\n",
    "import numpy as np\n",
    "import pandas as pd\n",
    "import matplotlib.pyplot as plt\n",
    "import seaborn as sns\n",
    "from sklearn.model_selection import train_test_split\n",
    "from sklearn.pipeline import Pipeline\n",
    "from datetime import datetime\n",
    "\n",
    "from sklearn.linear_model import LinearRegression\n",
    "from sklearn.linear_model import Ridge\n",
    "from sklearn.linear_model import Lasso\n",
    "import warnings\n",
    "warnings.filterwarnings(\"ignore\")"
   ]
  },
  {
   "cell_type": "markdown",
   "metadata": {},
   "source": [
    "1. Data Import, EDA, Transformation and Feature Engineering"
   ]
  },
  {
   "cell_type": "code",
   "execution_count": 3,
   "metadata": {},
   "outputs": [],
   "source": [
    "# data import\n",
    "df = pd.read_csv('hubway_trips.csv')\n",
    "stations = pd.read_csv('hubway_stations.csv')\n",
    "weather =  pd.read_csv('weather.csv')"
   ]
  },
  {
   "cell_type": "code",
   "execution_count": 4,
   "metadata": {},
   "outputs": [
    {
     "data": {
      "text/html": [
       "<div>\n",
       "<style scoped>\n",
       "    .dataframe tbody tr th:only-of-type {\n",
       "        vertical-align: middle;\n",
       "    }\n",
       "\n",
       "    .dataframe tbody tr th {\n",
       "        vertical-align: top;\n",
       "    }\n",
       "\n",
       "    .dataframe thead th {\n",
       "        text-align: right;\n",
       "    }\n",
       "</style>\n",
       "<table border=\"1\" class=\"dataframe\">\n",
       "  <thead>\n",
       "    <tr style=\"text-align: right;\">\n",
       "      <th></th>\n",
       "      <th>seq_id</th>\n",
       "      <th>hubway_id</th>\n",
       "      <th>status</th>\n",
       "      <th>duration</th>\n",
       "      <th>start_date</th>\n",
       "      <th>strt_statn</th>\n",
       "      <th>end_date</th>\n",
       "      <th>end_statn</th>\n",
       "      <th>bike_nr</th>\n",
       "      <th>subsc_type</th>\n",
       "      <th>zip_code</th>\n",
       "      <th>birth_date</th>\n",
       "      <th>gender</th>\n",
       "    </tr>\n",
       "  </thead>\n",
       "  <tbody>\n",
       "    <tr>\n",
       "      <th>0</th>\n",
       "      <td>1</td>\n",
       "      <td>8</td>\n",
       "      <td>Closed</td>\n",
       "      <td>9</td>\n",
       "      <td>7/28/2011 10:12:00</td>\n",
       "      <td>23.0</td>\n",
       "      <td>7/28/2011 10:12:00</td>\n",
       "      <td>23.0</td>\n",
       "      <td>B00468</td>\n",
       "      <td>Registered</td>\n",
       "      <td>'97217</td>\n",
       "      <td>1976.0</td>\n",
       "      <td>Male</td>\n",
       "    </tr>\n",
       "    <tr>\n",
       "      <th>1</th>\n",
       "      <td>2</td>\n",
       "      <td>9</td>\n",
       "      <td>Closed</td>\n",
       "      <td>220</td>\n",
       "      <td>7/28/2011 10:21:00</td>\n",
       "      <td>23.0</td>\n",
       "      <td>7/28/2011 10:25:00</td>\n",
       "      <td>23.0</td>\n",
       "      <td>B00554</td>\n",
       "      <td>Registered</td>\n",
       "      <td>'02215</td>\n",
       "      <td>1966.0</td>\n",
       "      <td>Male</td>\n",
       "    </tr>\n",
       "    <tr>\n",
       "      <th>2</th>\n",
       "      <td>3</td>\n",
       "      <td>10</td>\n",
       "      <td>Closed</td>\n",
       "      <td>56</td>\n",
       "      <td>7/28/2011 10:33:00</td>\n",
       "      <td>23.0</td>\n",
       "      <td>7/28/2011 10:34:00</td>\n",
       "      <td>23.0</td>\n",
       "      <td>B00456</td>\n",
       "      <td>Registered</td>\n",
       "      <td>'02108</td>\n",
       "      <td>1943.0</td>\n",
       "      <td>Male</td>\n",
       "    </tr>\n",
       "  </tbody>\n",
       "</table>\n",
       "</div>"
      ],
      "text/plain": [
       "   seq_id  hubway_id  status  duration          start_date  strt_statn  \\\n",
       "0       1          8  Closed         9  7/28/2011 10:12:00        23.0   \n",
       "1       2          9  Closed       220  7/28/2011 10:21:00        23.0   \n",
       "2       3         10  Closed        56  7/28/2011 10:33:00        23.0   \n",
       "\n",
       "             end_date  end_statn bike_nr  subsc_type zip_code  birth_date  \\\n",
       "0  7/28/2011 10:12:00       23.0  B00468  Registered   '97217      1976.0   \n",
       "1  7/28/2011 10:25:00       23.0  B00554  Registered   '02215      1966.0   \n",
       "2  7/28/2011 10:34:00       23.0  B00456  Registered   '02108      1943.0   \n",
       "\n",
       "  gender  \n",
       "0   Male  \n",
       "1   Male  \n",
       "2   Male  "
      ]
     },
     "execution_count": 4,
     "metadata": {},
     "output_type": "execute_result"
    }
   ],
   "source": [
    "# quick check\n",
    "df.head(3)"
   ]
  },
  {
   "cell_type": "code",
   "execution_count": 5,
   "metadata": {},
   "outputs": [
    {
     "data": {
      "text/html": [
       "<div>\n",
       "<style scoped>\n",
       "    .dataframe tbody tr th:only-of-type {\n",
       "        vertical-align: middle;\n",
       "    }\n",
       "\n",
       "    .dataframe tbody tr th {\n",
       "        vertical-align: top;\n",
       "    }\n",
       "\n",
       "    .dataframe thead th {\n",
       "        text-align: right;\n",
       "    }\n",
       "</style>\n",
       "<table border=\"1\" class=\"dataframe\">\n",
       "  <thead>\n",
       "    <tr style=\"text-align: right;\">\n",
       "      <th></th>\n",
       "      <th>id</th>\n",
       "      <th>terminal</th>\n",
       "      <th>station</th>\n",
       "      <th>municipal</th>\n",
       "      <th>lat</th>\n",
       "      <th>lng</th>\n",
       "      <th>status</th>\n",
       "    </tr>\n",
       "  </thead>\n",
       "  <tbody>\n",
       "    <tr>\n",
       "      <th>0</th>\n",
       "      <td>3</td>\n",
       "      <td>B32006</td>\n",
       "      <td>Colleges of the Fenway</td>\n",
       "      <td>Boston</td>\n",
       "      <td>42.340021</td>\n",
       "      <td>-71.100812</td>\n",
       "      <td>Existing</td>\n",
       "    </tr>\n",
       "    <tr>\n",
       "      <th>1</th>\n",
       "      <td>4</td>\n",
       "      <td>C32000</td>\n",
       "      <td>Tremont St. at Berkeley St.</td>\n",
       "      <td>Boston</td>\n",
       "      <td>42.345392</td>\n",
       "      <td>-71.069616</td>\n",
       "      <td>Existing</td>\n",
       "    </tr>\n",
       "    <tr>\n",
       "      <th>2</th>\n",
       "      <td>5</td>\n",
       "      <td>B32012</td>\n",
       "      <td>Northeastern U / North Parking Lot</td>\n",
       "      <td>Boston</td>\n",
       "      <td>42.341814</td>\n",
       "      <td>-71.090179</td>\n",
       "      <td>Existing</td>\n",
       "    </tr>\n",
       "  </tbody>\n",
       "</table>\n",
       "</div>"
      ],
      "text/plain": [
       "   id terminal                             station municipal        lat  \\\n",
       "0   3   B32006              Colleges of the Fenway    Boston  42.340021   \n",
       "1   4   C32000         Tremont St. at Berkeley St.    Boston  42.345392   \n",
       "2   5   B32012  Northeastern U / North Parking Lot    Boston  42.341814   \n",
       "\n",
       "         lng    status  \n",
       "0 -71.100812  Existing  \n",
       "1 -71.069616  Existing  \n",
       "2 -71.090179  Existing  "
      ]
     },
     "execution_count": 5,
     "metadata": {},
     "output_type": "execute_result"
    }
   ],
   "source": [
    "stations.head(3)"
   ]
  },
  {
   "cell_type": "code",
   "execution_count": 6,
   "metadata": {},
   "outputs": [
    {
     "data": {
      "text/html": [
       "<div>\n",
       "<style scoped>\n",
       "    .dataframe tbody tr th:only-of-type {\n",
       "        vertical-align: middle;\n",
       "    }\n",
       "\n",
       "    .dataframe tbody tr th {\n",
       "        vertical-align: top;\n",
       "    }\n",
       "\n",
       "    .dataframe thead th {\n",
       "        text-align: right;\n",
       "    }\n",
       "</style>\n",
       "<table border=\"1\" class=\"dataframe\">\n",
       "  <thead>\n",
       "    <tr style=\"text-align: right;\">\n",
       "      <th></th>\n",
       "      <th>STATION</th>\n",
       "      <th>STATION_NAME</th>\n",
       "      <th>ELEVATION</th>\n",
       "      <th>LATITUDE</th>\n",
       "      <th>LONGITUDE</th>\n",
       "      <th>DATE</th>\n",
       "      <th>HPCP</th>\n",
       "      <th>Measurement_Flag</th>\n",
       "      <th>Quality_Flag</th>\n",
       "    </tr>\n",
       "  </thead>\n",
       "  <tbody>\n",
       "    <tr>\n",
       "      <th>0</th>\n",
       "      <td>COOP:190770</td>\n",
       "      <td>BOSTON MA US</td>\n",
       "      <td>3.7</td>\n",
       "      <td>42.3606</td>\n",
       "      <td>-71.0106</td>\n",
       "      <td>20110729 09:00</td>\n",
       "      <td>0.0</td>\n",
       "      <td>T</td>\n",
       "      <td></td>\n",
       "    </tr>\n",
       "    <tr>\n",
       "      <th>1</th>\n",
       "      <td>COOP:190770</td>\n",
       "      <td>BOSTON MA US</td>\n",
       "      <td>3.7</td>\n",
       "      <td>42.3606</td>\n",
       "      <td>-71.0106</td>\n",
       "      <td>20110729 10:00</td>\n",
       "      <td>0.0</td>\n",
       "      <td>T</td>\n",
       "      <td></td>\n",
       "    </tr>\n",
       "    <tr>\n",
       "      <th>2</th>\n",
       "      <td>COOP:190770</td>\n",
       "      <td>BOSTON MA US</td>\n",
       "      <td>3.7</td>\n",
       "      <td>42.3606</td>\n",
       "      <td>-71.0106</td>\n",
       "      <td>20110729 18:00</td>\n",
       "      <td>0.0</td>\n",
       "      <td>T</td>\n",
       "      <td></td>\n",
       "    </tr>\n",
       "  </tbody>\n",
       "</table>\n",
       "</div>"
      ],
      "text/plain": [
       "       STATION  STATION_NAME  ELEVATION  LATITUDE  LONGITUDE            DATE  \\\n",
       "0  COOP:190770  BOSTON MA US        3.7   42.3606   -71.0106  20110729 09:00   \n",
       "1  COOP:190770  BOSTON MA US        3.7   42.3606   -71.0106  20110729 10:00   \n",
       "2  COOP:190770  BOSTON MA US        3.7   42.3606   -71.0106  20110729 18:00   \n",
       "\n",
       "   HPCP Measurement_Flag Quality_Flag  \n",
       "0   0.0                T               \n",
       "1   0.0                T               \n",
       "2   0.0                T               "
      ]
     },
     "execution_count": 6,
     "metadata": {},
     "output_type": "execute_result"
    }
   ],
   "source": [
    "weather.head(3)"
   ]
  },
  {
   "cell_type": "code",
   "execution_count": 7,
   "metadata": {},
   "outputs": [
    {
     "name": "stdout",
     "output_type": "stream",
     "text": [
      "(1579025, 13)\n",
      "(142, 7)\n",
      "(2654, 9)\n",
      "object     7\n",
      "int64      3\n",
      "float64    3\n",
      "dtype: int64\n",
      "object     4\n",
      "float64    2\n",
      "int64      1\n",
      "dtype: int64\n",
      "object     5\n",
      "float64    4\n",
      "dtype: int64\n"
     ]
    }
   ],
   "source": [
    "# checking shape of data, count value of data types\n",
    "print(df.shape)\n",
    "print(stations.shape)\n",
    "print(weather.shape)\n",
    "\n",
    "print(df.dtypes.value_counts())\n",
    "print(stations.dtypes.value_counts())\n",
    "print(weather.dtypes.value_counts())"
   ]
  },
  {
   "cell_type": "code",
   "execution_count": 8,
   "metadata": {},
   "outputs": [
    {
     "name": "stdout",
     "output_type": "stream",
     "text": [
      "<class 'pandas.core.frame.DataFrame'>\n",
      "RangeIndex: 1579025 entries, 0 to 1579024\n",
      "Data columns (total 13 columns):\n",
      " #   Column      Non-Null Count    Dtype  \n",
      "---  ------      --------------    -----  \n",
      " 0   seq_id      1579025 non-null  int64  \n",
      " 1   hubway_id   1579025 non-null  int64  \n",
      " 2   status      1579025 non-null  object \n",
      " 3   duration    1579025 non-null  int64  \n",
      " 4   start_date  1579025 non-null  object \n",
      " 5   strt_statn  1579011 non-null  float64\n",
      " 6   end_date    1579025 non-null  object \n",
      " 7   end_statn   1578980 non-null  float64\n",
      " 8   bike_nr     1578559 non-null  object \n",
      " 9   subsc_type  1579025 non-null  object \n",
      " 10  zip_code    1106259 non-null  object \n",
      " 11  birth_date  350644 non-null   float64\n",
      " 12  gender      1106414 non-null  object \n",
      "dtypes: float64(3), int64(3), object(7)\n",
      "memory usage: 156.6+ MB\n"
     ]
    }
   ],
   "source": [
    "# checking datatype of the main trip dataset\n",
    "df.info()"
   ]
  },
  {
   "cell_type": "code",
   "execution_count": 9,
   "metadata": {},
   "outputs": [
    {
     "data": {
      "text/html": [
       "<div>\n",
       "<style scoped>\n",
       "    .dataframe tbody tr th:only-of-type {\n",
       "        vertical-align: middle;\n",
       "    }\n",
       "\n",
       "    .dataframe tbody tr th {\n",
       "        vertical-align: top;\n",
       "    }\n",
       "\n",
       "    .dataframe thead th {\n",
       "        text-align: right;\n",
       "    }\n",
       "</style>\n",
       "<table border=\"1\" class=\"dataframe\">\n",
       "  <thead>\n",
       "    <tr style=\"text-align: right;\">\n",
       "      <th></th>\n",
       "      <th>seq_id</th>\n",
       "      <th>hubway_id</th>\n",
       "      <th>duration</th>\n",
       "      <th>strt_statn</th>\n",
       "      <th>end_statn</th>\n",
       "      <th>birth_date</th>\n",
       "    </tr>\n",
       "  </thead>\n",
       "  <tbody>\n",
       "    <tr>\n",
       "      <th>count</th>\n",
       "      <td>1.579025e+06</td>\n",
       "      <td>1.579025e+06</td>\n",
       "      <td>1.579025e+06</td>\n",
       "      <td>1.579011e+06</td>\n",
       "      <td>1.578980e+06</td>\n",
       "      <td>350644.000000</td>\n",
       "    </tr>\n",
       "    <tr>\n",
       "      <th>mean</th>\n",
       "      <td>7.895130e+05</td>\n",
       "      <td>8.865317e+05</td>\n",
       "      <td>1.200280e+03</td>\n",
       "      <td>5.438039e+01</td>\n",
       "      <td>5.425603e+01</td>\n",
       "      <td>1976.295322</td>\n",
       "    </tr>\n",
       "    <tr>\n",
       "      <th>std</th>\n",
       "      <td>4.558254e+05</td>\n",
       "      <td>5.064783e+05</td>\n",
       "      <td>2.653539e+04</td>\n",
       "      <td>3.364295e+01</td>\n",
       "      <td>3.347219e+01</td>\n",
       "      <td>10.999742</td>\n",
       "    </tr>\n",
       "    <tr>\n",
       "      <th>min</th>\n",
       "      <td>1.000000e+00</td>\n",
       "      <td>8.000000e+00</td>\n",
       "      <td>-6.900000e+03</td>\n",
       "      <td>3.000000e+00</td>\n",
       "      <td>3.000000e+00</td>\n",
       "      <td>1932.000000</td>\n",
       "    </tr>\n",
       "    <tr>\n",
       "      <th>25%</th>\n",
       "      <td>3.947570e+05</td>\n",
       "      <td>4.465250e+05</td>\n",
       "      <td>4.120000e+02</td>\n",
       "      <td>2.700000e+01</td>\n",
       "      <td>2.900000e+01</td>\n",
       "      <td>1969.000000</td>\n",
       "    </tr>\n",
       "    <tr>\n",
       "      <th>50%</th>\n",
       "      <td>7.895130e+05</td>\n",
       "      <td>8.950440e+05</td>\n",
       "      <td>6.600000e+02</td>\n",
       "      <td>4.800000e+01</td>\n",
       "      <td>4.800000e+01</td>\n",
       "      <td>1979.000000</td>\n",
       "    </tr>\n",
       "    <tr>\n",
       "      <th>75%</th>\n",
       "      <td>1.184269e+06</td>\n",
       "      <td>1.328083e+06</td>\n",
       "      <td>1.082000e+03</td>\n",
       "      <td>7.400000e+01</td>\n",
       "      <td>7.400000e+01</td>\n",
       "      <td>1985.000000</td>\n",
       "    </tr>\n",
       "    <tr>\n",
       "      <th>max</th>\n",
       "      <td>1.579025e+06</td>\n",
       "      <td>1.748022e+06</td>\n",
       "      <td>1.199446e+07</td>\n",
       "      <td>1.450000e+02</td>\n",
       "      <td>1.450000e+02</td>\n",
       "      <td>1995.000000</td>\n",
       "    </tr>\n",
       "  </tbody>\n",
       "</table>\n",
       "</div>"
      ],
      "text/plain": [
       "             seq_id     hubway_id      duration    strt_statn     end_statn  \\\n",
       "count  1.579025e+06  1.579025e+06  1.579025e+06  1.579011e+06  1.578980e+06   \n",
       "mean   7.895130e+05  8.865317e+05  1.200280e+03  5.438039e+01  5.425603e+01   \n",
       "std    4.558254e+05  5.064783e+05  2.653539e+04  3.364295e+01  3.347219e+01   \n",
       "min    1.000000e+00  8.000000e+00 -6.900000e+03  3.000000e+00  3.000000e+00   \n",
       "25%    3.947570e+05  4.465250e+05  4.120000e+02  2.700000e+01  2.900000e+01   \n",
       "50%    7.895130e+05  8.950440e+05  6.600000e+02  4.800000e+01  4.800000e+01   \n",
       "75%    1.184269e+06  1.328083e+06  1.082000e+03  7.400000e+01  7.400000e+01   \n",
       "max    1.579025e+06  1.748022e+06  1.199446e+07  1.450000e+02  1.450000e+02   \n",
       "\n",
       "          birth_date  \n",
       "count  350644.000000  \n",
       "mean     1976.295322  \n",
       "std        10.999742  \n",
       "min      1932.000000  \n",
       "25%      1969.000000  \n",
       "50%      1979.000000  \n",
       "75%      1985.000000  \n",
       "max      1995.000000  "
      ]
     },
     "execution_count": 9,
     "metadata": {},
     "output_type": "execute_result"
    }
   ],
   "source": [
    "df.describe()"
   ]
  },
  {
   "cell_type": "code",
   "execution_count": 10,
   "metadata": {},
   "outputs": [
    {
     "data": {
      "text/html": [
       "<div>\n",
       "<style scoped>\n",
       "    .dataframe tbody tr th:only-of-type {\n",
       "        vertical-align: middle;\n",
       "    }\n",
       "\n",
       "    .dataframe tbody tr th {\n",
       "        vertical-align: top;\n",
       "    }\n",
       "\n",
       "    .dataframe thead th {\n",
       "        text-align: right;\n",
       "    }\n",
       "</style>\n",
       "<table border=\"1\" class=\"dataframe\">\n",
       "  <thead>\n",
       "    <tr style=\"text-align: right;\">\n",
       "      <th></th>\n",
       "      <th>ELEVATION</th>\n",
       "      <th>LATITUDE</th>\n",
       "      <th>LONGITUDE</th>\n",
       "      <th>HPCP</th>\n",
       "    </tr>\n",
       "  </thead>\n",
       "  <tbody>\n",
       "    <tr>\n",
       "      <th>count</th>\n",
       "      <td>2.654000e+03</td>\n",
       "      <td>2.654000e+03</td>\n",
       "      <td>2.654000e+03</td>\n",
       "      <td>2654.000000</td>\n",
       "    </tr>\n",
       "    <tr>\n",
       "      <th>mean</th>\n",
       "      <td>3.700000e+00</td>\n",
       "      <td>4.236060e+01</td>\n",
       "      <td>-7.101060e+01</td>\n",
       "      <td>0.032946</td>\n",
       "    </tr>\n",
       "    <tr>\n",
       "      <th>std</th>\n",
       "      <td>4.441729e-16</td>\n",
       "      <td>7.106766e-15</td>\n",
       "      <td>1.421353e-14</td>\n",
       "      <td>0.074943</td>\n",
       "    </tr>\n",
       "    <tr>\n",
       "      <th>min</th>\n",
       "      <td>3.700000e+00</td>\n",
       "      <td>4.236060e+01</td>\n",
       "      <td>-7.101060e+01</td>\n",
       "      <td>0.000000</td>\n",
       "    </tr>\n",
       "    <tr>\n",
       "      <th>25%</th>\n",
       "      <td>3.700000e+00</td>\n",
       "      <td>4.236060e+01</td>\n",
       "      <td>-7.101060e+01</td>\n",
       "      <td>0.000000</td>\n",
       "    </tr>\n",
       "    <tr>\n",
       "      <th>50%</th>\n",
       "      <td>3.700000e+00</td>\n",
       "      <td>4.236060e+01</td>\n",
       "      <td>-7.101060e+01</td>\n",
       "      <td>0.010000</td>\n",
       "    </tr>\n",
       "    <tr>\n",
       "      <th>75%</th>\n",
       "      <td>3.700000e+00</td>\n",
       "      <td>4.236060e+01</td>\n",
       "      <td>-7.101060e+01</td>\n",
       "      <td>0.030000</td>\n",
       "    </tr>\n",
       "    <tr>\n",
       "      <th>max</th>\n",
       "      <td>3.700000e+00</td>\n",
       "      <td>4.236060e+01</td>\n",
       "      <td>-7.101060e+01</td>\n",
       "      <td>1.330000</td>\n",
       "    </tr>\n",
       "  </tbody>\n",
       "</table>\n",
       "</div>"
      ],
      "text/plain": [
       "          ELEVATION      LATITUDE     LONGITUDE         HPCP\n",
       "count  2.654000e+03  2.654000e+03  2.654000e+03  2654.000000\n",
       "mean   3.700000e+00  4.236060e+01 -7.101060e+01     0.032946\n",
       "std    4.441729e-16  7.106766e-15  1.421353e-14     0.074943\n",
       "min    3.700000e+00  4.236060e+01 -7.101060e+01     0.000000\n",
       "25%    3.700000e+00  4.236060e+01 -7.101060e+01     0.000000\n",
       "50%    3.700000e+00  4.236060e+01 -7.101060e+01     0.010000\n",
       "75%    3.700000e+00  4.236060e+01 -7.101060e+01     0.030000\n",
       "max    3.700000e+00  4.236060e+01 -7.101060e+01     1.330000"
      ]
     },
     "execution_count": 10,
     "metadata": {},
     "output_type": "execute_result"
    }
   ],
   "source": [
    "weather.describe()"
   ]
  },
  {
   "cell_type": "code",
   "execution_count": 11,
   "metadata": {},
   "outputs": [
    {
     "data": {
      "text/plain": [
       "seq_id              0\n",
       "hubway_id           0\n",
       "status              0\n",
       "duration            0\n",
       "start_date          0\n",
       "strt_statn         14\n",
       "end_date            0\n",
       "end_statn          45\n",
       "bike_nr           466\n",
       "subsc_type          0\n",
       "zip_code       472766\n",
       "birth_date    1228381\n",
       "gender         472611\n",
       "dtype: int64"
      ]
     },
     "execution_count": 11,
     "metadata": {},
     "output_type": "execute_result"
    }
   ],
   "source": [
    "df.isnull().sum()"
   ]
  },
  {
   "cell_type": "code",
   "execution_count": 12,
   "metadata": {},
   "outputs": [
    {
     "data": {
      "text/plain": [
       "id           0\n",
       "terminal     0\n",
       "station      0\n",
       "municipal    0\n",
       "lat          0\n",
       "lng          0\n",
       "status       0\n",
       "dtype: int64"
      ]
     },
     "execution_count": 12,
     "metadata": {},
     "output_type": "execute_result"
    }
   ],
   "source": [
    "stations.isnull().sum()"
   ]
  },
  {
   "cell_type": "code",
   "execution_count": 13,
   "metadata": {},
   "outputs": [
    {
     "data": {
      "text/plain": [
       "STATION             0\n",
       "STATION_NAME        0\n",
       "ELEVATION           0\n",
       "LATITUDE            0\n",
       "LONGITUDE           0\n",
       "DATE                0\n",
       "HPCP                0\n",
       "Measurement_Flag    0\n",
       "Quality_Flag        0\n",
       "dtype: int64"
      ]
     },
     "execution_count": 13,
     "metadata": {},
     "output_type": "execute_result"
    }
   ],
   "source": [
    "weather.isnull().sum()"
   ]
  },
  {
   "cell_type": "code",
   "execution_count": 14,
   "metadata": {},
   "outputs": [
    {
     "name": "stdout",
     "output_type": "stream",
     "text": [
      "<class 'pandas.core.frame.DataFrame'>\n",
      "Int64Index: 1579025 entries, 0 to 1579024\n",
      "Data columns (total 27 columns):\n",
      " #   Column       Non-Null Count    Dtype  \n",
      "---  ------       --------------    -----  \n",
      " 0   seq_id       1579025 non-null  int64  \n",
      " 1   hubway_id    1579025 non-null  int64  \n",
      " 2   status_x     1579025 non-null  object \n",
      " 3   duration     1579025 non-null  int64  \n",
      " 4   start_date   1579025 non-null  object \n",
      " 5   strt_statn   1579011 non-null  float64\n",
      " 6   end_date     1579025 non-null  object \n",
      " 7   end_statn    1578980 non-null  float64\n",
      " 8   bike_nr      1578559 non-null  object \n",
      " 9   subsc_type   1579025 non-null  object \n",
      " 10  zip_code     1106259 non-null  object \n",
      " 11  birth_date   350644 non-null   float64\n",
      " 12  gender       1106414 non-null  object \n",
      " 13  id_x         1579011 non-null  float64\n",
      " 14  terminal_x   1579011 non-null  object \n",
      " 15  station_x    1579011 non-null  object \n",
      " 16  municipal_x  1579011 non-null  object \n",
      " 17  lat_x        1579011 non-null  float64\n",
      " 18  lng_x        1579011 non-null  float64\n",
      " 19  status_y     1579011 non-null  object \n",
      " 20  id_y         1578980 non-null  float64\n",
      " 21  terminal_y   1578980 non-null  object \n",
      " 22  station_y    1578980 non-null  object \n",
      " 23  municipal_y  1578980 non-null  object \n",
      " 24  lat_y        1578980 non-null  float64\n",
      " 25  lng_y        1578980 non-null  float64\n",
      " 26  status       1578980 non-null  object \n",
      "dtypes: float64(9), int64(3), object(15)\n",
      "memory usage: 337.3+ MB\n"
     ]
    }
   ],
   "source": [
    "# we join up the trip data with the stations and weather data, calculate some useful metrics e.g distance \n",
    "df2 = pd.merge(df , stations , left_on='strt_statn' , right_on='id', how = 'left')\n",
    "df3 = pd.merge(df2 , stations , left_on='end_statn' , right_on='id', how = 'left')\n",
    "df3.info()"
   ]
  },
  {
   "cell_type": "code",
   "execution_count": 16,
   "metadata": {},
   "outputs": [],
   "source": [
    "# date engineering -I           engineering dates\n",
    "def time_rounder(t):\n",
    "    return t.replace(second=0, minute=0)\n",
    "df3['start_date'] = df3['start_date'].apply(lambda x:  datetime.strptime(x, '%m/%d/%Y %H:%M:%S'))\n",
    "df3['start_date_nearest']=  df3['start_date'].apply(lambda x :time_rounder(x))\n",
    "weather['DATE'] = weather['DATE'].apply(lambda x:  datetime.strptime(x, '%Y%m%d %H:%M'))\n",
    "weather= weather[['DATE','HPCP']]"
   ]
  },
  {
   "cell_type": "code",
   "execution_count": 17,
   "metadata": {},
   "outputs": [],
   "source": [
    "df4 = pd.merge(df3 , weather , left_on='start_date_nearest' , right_on='DATE', how = 'left')\n",
    "df4['HPCP'] = df4['HPCP'].fillna(0)  # since from the data description PDF i learned Hours with no precipitation are not shown."
   ]
  },
  {
   "cell_type": "code",
   "execution_count": 18,
   "metadata": {},
   "outputs": [],
   "source": [
    "# date engineering -II               engineering nulls and create the subscriptionagebandgender col \n",
    "\n",
    "df4= df4[((df['subsc_type']=='Registered') & (df['birth_date'].notnull())) | (df['subsc_type']=='Casual')]"
   ]
  },
  {
   "cell_type": "code",
   "execution_count": 19,
   "metadata": {},
   "outputs": [],
   "source": [
    "# i had a look at df4['age'].hist() to understand the age distribution and made the below categorization\n",
    "def age_band(x):\n",
    "    if np.isnan(x):\n",
    "        return ''\n",
    "    if x< 25:\n",
    "        return 'under 25'\n",
    "    if x< 30:\n",
    "        return '25-30'\n",
    "    if x< 35:\n",
    "        return '30-35'\n",
    "    if x< 40:\n",
    "        return '35-40'\n",
    "    if x< 50:\n",
    "        return '40-50'\n",
    "    return '50+'\n",
    "df4['gender'] = df4['gender'].fillna('')\n",
    "df4['age'] =   df4['start_date_nearest'].apply(lambda x : x.year)- df['birth_date'] \n",
    "df4['age_band'] =  df4['age'].apply(lambda x : age_band(x))\n",
    "df4['subscriptionagebandgender'] = df4['subsc_type'] +' '+ df4['age_band'] + ' ' + df4['gender']\n",
    "\n",
    "# comments: the composite feature is great because we do not have to drop null birth_year/gender resulting in dramatic decrease in data size\n",
    "# _dropping null birth_year/gender will also result in casual subscription type to be dropped and will only net 350k data point\n",
    "# _with this composibte feature we have preserved most of the observations"
   ]
  },
  {
   "cell_type": "code",
   "execution_count": 20,
   "metadata": {},
   "outputs": [],
   "source": [
    "df4 = df4[df4['bike_nr'].notnull()]\n",
    "df4 = df4[df4['id_x'].notnull()]\n",
    "df4 = df4[df4['id_y'].notnull()]"
   ]
  },
  {
   "cell_type": "code",
   "execution_count": 21,
   "metadata": {},
   "outputs": [
    {
     "data": {
      "text/plain": [
       "Casual                        472341\n",
       "Registered 25-30 Male          63855\n",
       "Registered 40-50 Male          48751\n",
       "Registered 30-35 Male          46592\n",
       "Registered 50+ Male            39043\n",
       "Registered 35-40 Male          32710\n",
       "Registered under 25 Male       32482\n",
       "Registered 25-30 Female        23340\n",
       "Registered 30-35 Female        16585\n",
       "Registered under 25 Female     14135\n",
       "Registered 40-50 Female        12038\n",
       "Registered 50+ Female          10562\n",
       "Registered 35-40 Female        10310\n",
       "Name: subscriptionagebandgender, dtype: int64"
      ]
     },
     "execution_count": 21,
     "metadata": {},
     "output_type": "execute_result"
    }
   ],
   "source": [
    "df4['subscriptionagebandgender'].value_counts()"
   ]
  },
  {
   "cell_type": "code",
   "execution_count": 34,
   "metadata": {},
   "outputs": [],
   "source": [
    "# getting distance in meters;\n",
    "import math\n",
    "def distance_calculator(x1,y1,x2,y2):\n",
    "    return math.sqrt(  abs(x2-x1)**2+abs(y2-y1)**2 )\n",
    "distance=[]\n",
    "lat_x = list(df4['lat_x'])  #x1\n",
    "lng_x = list(df4['lng_x'])  #y1\n",
    "lat_y = list(df4['lat_y'])\n",
    "lng_y = list(df4['lng_y'])\n",
    "for i in range(0, len(lat_x)):\n",
    "    distance.append(  distance_calculator(lat_x[i],lng_x[i],lat_y[i],lng_y[i])          )  \n",
    "df4['distance'] = distance"
   ]
  },
  {
   "cell_type": "code",
   "execution_count": 38,
   "metadata": {},
   "outputs": [],
   "source": [
    "# i dropped the columns which i believe will not longer be used, or have their values made into the various combined features\n",
    "df5 = df4.drop(['seq_id','hubway_id','status_x','start_date','strt_statn','end_date','end_statn',\n",
    "    'subsc_type','zip_code' ,'birth_date'  ,'gender'  ,'id_x' ,'terminal_x','station_x',\n",
    "     'lat_x','lng_x' ,'status_y' ,'id_y'  ,'terminal_y','station_y' ,'lat_y'  ,'lng_y' ,'status' ,\n",
    "                 'DATE' ,'age_band' ,'age' ,'municipal_x' ,'municipal_y' ,'bike_nr'\n",
    "          ], axis = 1)"
   ]
  },
  {
   "cell_type": "code",
   "execution_count": 39,
   "metadata": {},
   "outputs": [
    {
     "name": "stdout",
     "output_type": "stream",
     "text": [
      "<class 'pandas.core.frame.DataFrame'>\n",
      "Int64Index: 822744 entries, 0 to 1579022\n",
      "Data columns (total 5 columns):\n",
      " #   Column                     Non-Null Count   Dtype         \n",
      "---  ------                     --------------   -----         \n",
      " 0   duration                   822744 non-null  int64         \n",
      " 1   start_date_nearest         822744 non-null  datetime64[ns]\n",
      " 2   HPCP                       822744 non-null  float64       \n",
      " 3   subscriptionagebandgender  822744 non-null  object        \n",
      " 4   distance                   822744 non-null  float64       \n",
      "dtypes: datetime64[ns](1), float64(2), int64(1), object(1)\n",
      "memory usage: 37.7+ MB\n"
     ]
    }
   ],
   "source": [
    "df5.info()"
   ]
  },
  {
   "cell_type": "markdown",
   "metadata": {},
   "source": [
    "2. Visualized EDA and additional feature engineering"
   ]
  },
  {
   "cell_type": "code",
   "execution_count": 41,
   "metadata": {},
   "outputs": [],
   "source": [
    "# by now the data is already looking very neat with the dependent variables and independent numerical/cat variables\n",
    "# I want to know if additional features can be had through the chronological data"
   ]
  },
  {
   "cell_type": "code",
   "execution_count": 42,
   "metadata": {},
   "outputs": [
    {
     "data": {
      "text/html": [
       "<div>\n",
       "<style scoped>\n",
       "    .dataframe tbody tr th:only-of-type {\n",
       "        vertical-align: middle;\n",
       "    }\n",
       "\n",
       "    .dataframe tbody tr th {\n",
       "        vertical-align: top;\n",
       "    }\n",
       "\n",
       "    .dataframe thead th {\n",
       "        text-align: right;\n",
       "    }\n",
       "</style>\n",
       "<table border=\"1\" class=\"dataframe\">\n",
       "  <thead>\n",
       "    <tr style=\"text-align: right;\">\n",
       "      <th></th>\n",
       "      <th>duration</th>\n",
       "      <th>start_date_nearest</th>\n",
       "      <th>HPCP</th>\n",
       "      <th>subscriptionagebandgender</th>\n",
       "      <th>distance</th>\n",
       "    </tr>\n",
       "  </thead>\n",
       "  <tbody>\n",
       "    <tr>\n",
       "      <th>0</th>\n",
       "      <td>9</td>\n",
       "      <td>2011-07-28 10:00:00</td>\n",
       "      <td>0.0</td>\n",
       "      <td>Registered 35-40 Male</td>\n",
       "      <td>0.0</td>\n",
       "    </tr>\n",
       "    <tr>\n",
       "      <th>1</th>\n",
       "      <td>220</td>\n",
       "      <td>2011-07-28 10:00:00</td>\n",
       "      <td>0.0</td>\n",
       "      <td>Registered 40-50 Male</td>\n",
       "      <td>0.0</td>\n",
       "    </tr>\n",
       "    <tr>\n",
       "      <th>2</th>\n",
       "      <td>56</td>\n",
       "      <td>2011-07-28 10:00:00</td>\n",
       "      <td>0.0</td>\n",
       "      <td>Registered 50+ Male</td>\n",
       "      <td>0.0</td>\n",
       "    </tr>\n",
       "  </tbody>\n",
       "</table>\n",
       "</div>"
      ],
      "text/plain": [
       "   duration  start_date_nearest  HPCP subscriptionagebandgender  distance\n",
       "0         9 2011-07-28 10:00:00   0.0     Registered 35-40 Male       0.0\n",
       "1       220 2011-07-28 10:00:00   0.0     Registered 40-50 Male       0.0\n",
       "2        56 2011-07-28 10:00:00   0.0       Registered 50+ Male       0.0"
      ]
     },
     "execution_count": 42,
     "metadata": {},
     "output_type": "execute_result"
    }
   ],
   "source": [
    "df5.head(3)"
   ]
  },
  {
   "cell_type": "code",
   "execution_count": 71,
   "metadata": {},
   "outputs": [
    {
     "data": {
      "image/png": "[encoded data removed]",
      "text/plain": [
       "<Figure size 1080x288 with 1 Axes>"
      ]
     },
     "metadata": {
      "needs_background": "light"
     },
     "output_type": "display_data"
    }
   ],
   "source": [
    "fig = plt.figure(figsize=(15,4))\n",
    "ax = df5.groupby(by=['subscriptionagebandgender'])['subscriptionagebandgender'].count().sort_values().plot(x='subscriptionagebandgender',\n",
    "                                                                                    y='ct',\n",
    "                                                                                kind='bar'    )\n",
    "plt.xlabel(\"subscription age band and gender\")\n",
    "plt.ylabel(\"record ct\")\n",
    "plt.savefig('subscriptionagebandgender categorical ct.png')\n",
    "plt.show()"
   ]
  },
  {
   "cell_type": "code",
   "execution_count": null,
   "metadata": {},
   "outputs": [],
   "source": []
  },
  {
   "cell_type": "code",
   "execution_count": null,
   "metadata": {},
   "outputs": [],
   "source": []
  }
 ],
 "metadata": {
  "kernelspec": {
   "display_name": "ds",
   "language": "python",
   "name": "ds"
  },
  "language_info": {
   "codemirror_mode": {
    "name": "ipython",
    "version": 3
   },
   "file_extension": ".py",
   "mimetype": "text/x-python",
   "name": "python",
   "nbconvert_exporter": "python",
   "pygments_lexer": "ipython3",
   "version": "3.7.13"
  }
 },
 "nbformat": 4,
 "nbformat_minor": 4
}
